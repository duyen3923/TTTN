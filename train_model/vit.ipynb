{
 "cells": [
  {
   "cell_type": "code",
   "execution_count": 9,
   "metadata": {},
   "outputs": [
    {
     "name": "stdout",
     "output_type": "stream",
     "text": [
      "✅ Hoàn tất chuyển đổi dataset!\n"
     ]
    }
   ],
   "source": [
    "import os\n",
    "import cv2\n",
    "from glob import glob\n",
    "\n",
    "# ==== Cấu hình ====\n",
    "images_dir = \"D:/yolo8_congTruong/SODA/images/val\"\n",
    "labels_dir = \"D:/yolo8_congTruong/SODA/labels/val\"\n",
    "output_dir = \"classification_dataset/val\"\n",
    "person_class_id = 0\n",
    "helmet_class_id = 1\n",
    "\n",
    "min_width, min_height = 50, 50  # kích thước tối thiểu\n",
    "\n",
    "os.makedirs(f\"{output_dir}/helmet\", exist_ok=True)\n",
    "os.makedirs(f\"{output_dir}/no_helmet\", exist_ok=True)\n",
    "\n",
    "label_files = glob(os.path.join(labels_dir, \"*.txt\"))\n",
    "\n",
    "for label_file in label_files:\n",
    "    base_name = os.path.splitext(os.path.basename(label_file))[0]\n",
    "\n",
    "    # Tìm ảnh\n",
    "    img_path = None\n",
    "    for ext in [\".jpg\", \".png\", \".jpeg\"]:\n",
    "        candidate = os.path.join(images_dir, base_name + ext)\n",
    "        if os.path.exists(candidate):\n",
    "            img_path = candidate\n",
    "            break\n",
    "\n",
    "    if img_path is None:\n",
    "        continue\n",
    "\n",
    "    img = cv2.imread(img_path)\n",
    "    if img is None:\n",
    "        continue\n",
    "    h, w = img.shape[:2]\n",
    "\n",
    "    with open(label_file, \"r\") as f:\n",
    "        lines = f.readlines()\n",
    "\n",
    "    person_boxes = []\n",
    "    helmet_boxes = []\n",
    "\n",
    "    # Đọc tất cả bbox\n",
    "    for line in lines:\n",
    "        class_id, x_center, y_center, bw, bh = map(float, line.split())\n",
    "        x1 = int((x_center - bw / 2) * w)\n",
    "        y1 = int((y_center - bh / 2) * h)\n",
    "        x2 = int((x_center + bw / 2) * w)\n",
    "        y2 = int((y_center + bh / 2) * h)\n",
    "\n",
    "        if int(class_id) == person_class_id:\n",
    "            person_boxes.append((x1, y1, x2, y2))\n",
    "        elif int(class_id) == helmet_class_id:\n",
    "            helmet_boxes.append((x1, y1, x2, y2))\n",
    "\n",
    "    # Xử lý từng người\n",
    "    for i, (px1, py1, px2, py2) in enumerate(person_boxes):\n",
    "        pw, ph = px2 - px1, py2 - py1\n",
    "        if pw < min_width or ph < min_height:\n",
    "            continue  # bỏ ảnh nhỏ\n",
    "\n",
    "        has_helmet = False\n",
    "        for (hx1, hy1, hx2, hy2) in helmet_boxes:\n",
    "            # Tính giao nhau\n",
    "            inter_x1 = max(px1, hx1)\n",
    "            inter_y1 = max(py1, hy1)\n",
    "            inter_x2 = min(px2, hx2)\n",
    "            inter_y2 = min(py2, hy2)\n",
    "\n",
    "            if inter_x2 > inter_x1 and inter_y2 > inter_y1:\n",
    "                inter_area = (inter_x2 - inter_x1) * (inter_y2 - inter_y1)\n",
    "                helmet_area = (hx2 - hx1) * (hy2 - hy1)\n",
    "                if helmet_area > 0 and inter_area / helmet_area > 0.3:\n",
    "                    has_helmet = True\n",
    "                    break\n",
    "\n",
    "        # Crop ảnh người\n",
    "        person_crop = img[max(0, py1):min(h, py2), max(0, px1):min(w, px2)]\n",
    "        if person_crop.size == 0:\n",
    "            continue\n",
    "\n",
    "        # Lưu ảnh\n",
    "        if has_helmet:\n",
    "            save_path = f\"{output_dir}/helmet/{base_name}_{i}.jpg\"\n",
    "        else:\n",
    "            save_path = f\"{output_dir}/no_helmet/{base_name}_{i}.jpg\"\n",
    "\n",
    "        cv2.imwrite(save_path, person_crop)\n",
    "\n",
    "print(\"✅ Hoàn tất chuyển đổi dataset!\")\n"
   ]
  },
  {
   "cell_type": "code",
   "execution_count": 6,
   "metadata": {},
   "outputs": [
    {
     "name": "stderr",
     "output_type": "stream",
     "text": [
      "Epoch 1/70: 100%|██████████| 231/231 [00:39<00:00,  5.85it/s]\n"
     ]
    },
    {
     "name": "stdout",
     "output_type": "stream",
     "text": [
      "Epoch [1/70] - Loss: 0.6686 - Train Acc: 61.43%\n",
      "Validation Acc: 50.96%\n",
      "\n",
      "✅ Saved best model at epoch 1 with Validation Acc: 50.96%\n"
     ]
    },
    {
     "name": "stderr",
     "output_type": "stream",
     "text": [
      "Epoch 2/70: 100%|██████████| 231/231 [00:28<00:00,  8.22it/s]\n"
     ]
    },
    {
     "name": "stdout",
     "output_type": "stream",
     "text": [
      "Epoch [2/70] - Loss: 0.5815 - Train Acc: 69.90%\n",
      "Validation Acc: 70.74%\n",
      "\n",
      "✅ Saved best model at epoch 2 with Validation Acc: 70.74%\n"
     ]
    },
    {
     "name": "stderr",
     "output_type": "stream",
     "text": [
      "Epoch 3/70: 100%|██████████| 231/231 [00:28<00:00,  8.14it/s]\n"
     ]
    },
    {
     "name": "stdout",
     "output_type": "stream",
     "text": [
      "Epoch [3/70] - Loss: 0.5436 - Train Acc: 72.77%\n",
      "Validation Acc: 68.44%\n",
      "\n"
     ]
    },
    {
     "name": "stderr",
     "output_type": "stream",
     "text": [
      "Epoch 4/70: 100%|██████████| 231/231 [00:28<00:00,  8.11it/s]\n"
     ]
    },
    {
     "name": "stdout",
     "output_type": "stream",
     "text": [
      "Epoch [4/70] - Loss: 0.5397 - Train Acc: 73.00%\n",
      "Validation Acc: 79.12%\n",
      "\n",
      "✅ Saved best model at epoch 4 with Validation Acc: 79.12%\n"
     ]
    },
    {
     "name": "stderr",
     "output_type": "stream",
     "text": [
      "Epoch 5/70: 100%|██████████| 231/231 [00:29<00:00,  7.94it/s]\n"
     ]
    },
    {
     "name": "stdout",
     "output_type": "stream",
     "text": [
      "Epoch [5/70] - Loss: 0.5137 - Train Acc: 74.50%\n",
      "Validation Acc: 67.23%\n",
      "\n"
     ]
    },
    {
     "name": "stderr",
     "output_type": "stream",
     "text": [
      "Epoch 6/70: 100%|██████████| 231/231 [00:29<00:00,  7.93it/s]\n"
     ]
    },
    {
     "name": "stdout",
     "output_type": "stream",
     "text": [
      "Epoch [6/70] - Loss: 0.5123 - Train Acc: 74.51%\n",
      "Validation Acc: 71.75%\n",
      "\n"
     ]
    },
    {
     "name": "stderr",
     "output_type": "stream",
     "text": [
      "Epoch 7/70: 100%|██████████| 231/231 [00:28<00:00,  8.02it/s]\n"
     ]
    },
    {
     "name": "stdout",
     "output_type": "stream",
     "text": [
      "Epoch [7/70] - Loss: 0.4956 - Train Acc: 75.74%\n",
      "Validation Acc: 61.63%\n",
      "\n"
     ]
    },
    {
     "name": "stderr",
     "output_type": "stream",
     "text": [
      "Epoch 8/70: 100%|██████████| 231/231 [00:28<00:00,  8.00it/s]\n"
     ]
    },
    {
     "name": "stdout",
     "output_type": "stream",
     "text": [
      "Epoch [8/70] - Loss: 0.4956 - Train Acc: 76.03%\n",
      "Validation Acc: 78.34%\n",
      "\n"
     ]
    },
    {
     "name": "stderr",
     "output_type": "stream",
     "text": [
      "Epoch 9/70: 100%|██████████| 231/231 [00:28<00:00,  8.03it/s]\n"
     ]
    },
    {
     "name": "stdout",
     "output_type": "stream",
     "text": [
      "Epoch [9/70] - Loss: 0.4843 - Train Acc: 76.45%\n",
      "Validation Acc: 69.88%\n",
      "\n"
     ]
    },
    {
     "name": "stderr",
     "output_type": "stream",
     "text": [
      "Epoch 10/70: 100%|██████████| 231/231 [00:28<00:00,  8.03it/s]\n"
     ]
    },
    {
     "name": "stdout",
     "output_type": "stream",
     "text": [
      "Epoch [10/70] - Loss: 0.4844 - Train Acc: 76.43%\n",
      "Validation Acc: 75.36%\n",
      "\n"
     ]
    },
    {
     "name": "stderr",
     "output_type": "stream",
     "text": [
      "Epoch 11/70: 100%|██████████| 231/231 [00:28<00:00,  7.99it/s]\n"
     ]
    },
    {
     "name": "stdout",
     "output_type": "stream",
     "text": [
      "Epoch [11/70] - Loss: 0.4861 - Train Acc: 76.81%\n",
      "Validation Acc: 73.55%\n",
      "\n"
     ]
    },
    {
     "name": "stderr",
     "output_type": "stream",
     "text": [
      "Epoch 12/70: 100%|██████████| 231/231 [00:28<00:00,  8.01it/s]\n"
     ]
    },
    {
     "name": "stdout",
     "output_type": "stream",
     "text": [
      "Epoch [12/70] - Loss: 0.4990 - Train Acc: 76.23%\n",
      "Validation Acc: 75.97%\n",
      "\n"
     ]
    },
    {
     "name": "stderr",
     "output_type": "stream",
     "text": [
      "Epoch 13/70: 100%|██████████| 231/231 [00:28<00:00,  7.97it/s]\n"
     ]
    },
    {
     "name": "stdout",
     "output_type": "stream",
     "text": [
      "Epoch [13/70] - Loss: 0.4884 - Train Acc: 76.15%\n",
      "Validation Acc: 66.84%\n",
      "\n"
     ]
    },
    {
     "name": "stderr",
     "output_type": "stream",
     "text": [
      "Epoch 14/70: 100%|██████████| 231/231 [00:28<00:00,  7.98it/s]\n"
     ]
    },
    {
     "name": "stdout",
     "output_type": "stream",
     "text": [
      "Epoch [14/70] - Loss: 0.4906 - Train Acc: 75.80%\n",
      "Validation Acc: 64.35%\n",
      "\n"
     ]
    },
    {
     "name": "stderr",
     "output_type": "stream",
     "text": [
      "Epoch 15/70: 100%|██████████| 231/231 [00:28<00:00,  7.97it/s]\n"
     ]
    },
    {
     "name": "stdout",
     "output_type": "stream",
     "text": [
      "Epoch [15/70] - Loss: 0.5014 - Train Acc: 75.65%\n",
      "Validation Acc: 60.01%\n",
      "\n"
     ]
    },
    {
     "name": "stderr",
     "output_type": "stream",
     "text": [
      "Epoch 16/70: 100%|██████████| 231/231 [00:29<00:00,  7.96it/s]\n"
     ]
    },
    {
     "name": "stdout",
     "output_type": "stream",
     "text": [
      "Epoch [16/70] - Loss: 0.4801 - Train Acc: 77.37%\n",
      "Validation Acc: 59.57%\n",
      "\n"
     ]
    },
    {
     "name": "stderr",
     "output_type": "stream",
     "text": [
      "Epoch 17/70: 100%|██████████| 231/231 [00:28<00:00,  7.99it/s]\n"
     ]
    },
    {
     "name": "stdout",
     "output_type": "stream",
     "text": [
      "Epoch [17/70] - Loss: 0.4764 - Train Acc: 76.80%\n",
      "Validation Acc: 65.24%\n",
      "\n"
     ]
    },
    {
     "name": "stderr",
     "output_type": "stream",
     "text": [
      "Epoch 18/70: 100%|██████████| 231/231 [00:29<00:00,  7.94it/s]\n"
     ]
    },
    {
     "name": "stdout",
     "output_type": "stream",
     "text": [
      "Epoch [18/70] - Loss: 0.4758 - Train Acc: 77.25%\n",
      "Validation Acc: 72.12%\n",
      "\n"
     ]
    },
    {
     "name": "stderr",
     "output_type": "stream",
     "text": [
      "Epoch 19/70: 100%|██████████| 231/231 [00:29<00:00,  7.88it/s]\n"
     ]
    },
    {
     "name": "stdout",
     "output_type": "stream",
     "text": [
      "Epoch [19/70] - Loss: 0.4719 - Train Acc: 77.68%\n",
      "Validation Acc: 78.10%\n",
      "\n"
     ]
    },
    {
     "name": "stderr",
     "output_type": "stream",
     "text": [
      "Epoch 20/70: 100%|██████████| 231/231 [00:29<00:00,  7.92it/s]\n"
     ]
    },
    {
     "name": "stdout",
     "output_type": "stream",
     "text": [
      "Epoch [20/70] - Loss: 0.4721 - Train Acc: 77.81%\n",
      "Validation Acc: 74.89%\n",
      "\n"
     ]
    },
    {
     "name": "stderr",
     "output_type": "stream",
     "text": [
      "Epoch 21/70: 100%|██████████| 231/231 [00:29<00:00,  7.76it/s]\n"
     ]
    },
    {
     "name": "stdout",
     "output_type": "stream",
     "text": [
      "Epoch [21/70] - Loss: 0.4654 - Train Acc: 77.58%\n",
      "Validation Acc: 67.29%\n",
      "\n"
     ]
    },
    {
     "name": "stderr",
     "output_type": "stream",
     "text": [
      "Epoch 22/70: 100%|██████████| 231/231 [00:29<00:00,  7.95it/s]\n"
     ]
    },
    {
     "name": "stdout",
     "output_type": "stream",
     "text": [
      "Epoch [22/70] - Loss: 0.4743 - Train Acc: 77.56%\n",
      "Validation Acc: 76.63%\n",
      "\n"
     ]
    },
    {
     "name": "stderr",
     "output_type": "stream",
     "text": [
      "Epoch 23/70: 100%|██████████| 231/231 [00:28<00:00,  7.97it/s]\n"
     ]
    },
    {
     "name": "stdout",
     "output_type": "stream",
     "text": [
      "Epoch [23/70] - Loss: 0.4696 - Train Acc: 77.62%\n",
      "Validation Acc: 74.54%\n",
      "\n"
     ]
    },
    {
     "name": "stderr",
     "output_type": "stream",
     "text": [
      "Epoch 24/70: 100%|██████████| 231/231 [00:29<00:00,  7.92it/s]\n"
     ]
    },
    {
     "name": "stdout",
     "output_type": "stream",
     "text": [
      "Epoch [24/70] - Loss: 0.4709 - Train Acc: 77.61%\n",
      "Validation Acc: 74.83%\n",
      "\n"
     ]
    },
    {
     "name": "stderr",
     "output_type": "stream",
     "text": [
      "Epoch 25/70: 100%|██████████| 231/231 [00:29<00:00,  7.75it/s]\n"
     ]
    },
    {
     "name": "stdout",
     "output_type": "stream",
     "text": [
      "Epoch [25/70] - Loss: 0.4642 - Train Acc: 78.03%\n",
      "Validation Acc: 74.85%\n",
      "\n"
     ]
    },
    {
     "name": "stderr",
     "output_type": "stream",
     "text": [
      "Epoch 26/70: 100%|██████████| 231/231 [00:29<00:00,  7.83it/s]\n"
     ]
    },
    {
     "name": "stdout",
     "output_type": "stream",
     "text": [
      "Epoch [26/70] - Loss: 0.4852 - Train Acc: 76.56%\n",
      "Validation Acc: 70.80%\n",
      "\n"
     ]
    },
    {
     "name": "stderr",
     "output_type": "stream",
     "text": [
      "Epoch 27/70: 100%|██████████| 231/231 [00:29<00:00,  7.91it/s]\n"
     ]
    },
    {
     "name": "stdout",
     "output_type": "stream",
     "text": [
      "Epoch [27/70] - Loss: 0.4729 - Train Acc: 77.61%\n",
      "Validation Acc: 64.23%\n",
      "\n"
     ]
    },
    {
     "name": "stderr",
     "output_type": "stream",
     "text": [
      "Epoch 28/70: 100%|██████████| 231/231 [00:29<00:00,  7.95it/s]\n"
     ]
    },
    {
     "name": "stdout",
     "output_type": "stream",
     "text": [
      "Epoch [28/70] - Loss: 0.4769 - Train Acc: 76.77%\n",
      "Validation Acc: 68.16%\n",
      "\n"
     ]
    },
    {
     "name": "stderr",
     "output_type": "stream",
     "text": [
      "Epoch 29/70: 100%|██████████| 231/231 [00:28<00:00,  8.00it/s]\n"
     ]
    },
    {
     "name": "stdout",
     "output_type": "stream",
     "text": [
      "Epoch [29/70] - Loss: 0.4688 - Train Acc: 77.50%\n",
      "Validation Acc: 68.21%\n",
      "\n"
     ]
    },
    {
     "name": "stderr",
     "output_type": "stream",
     "text": [
      "Epoch 30/70: 100%|██████████| 231/231 [00:28<00:00,  8.01it/s]\n"
     ]
    },
    {
     "name": "stdout",
     "output_type": "stream",
     "text": [
      "Epoch [30/70] - Loss: 0.4659 - Train Acc: 77.77%\n",
      "Validation Acc: 74.72%\n",
      "\n"
     ]
    },
    {
     "name": "stderr",
     "output_type": "stream",
     "text": [
      "Epoch 31/70: 100%|██████████| 231/231 [00:28<00:00,  7.98it/s]\n"
     ]
    },
    {
     "name": "stdout",
     "output_type": "stream",
     "text": [
      "Epoch [31/70] - Loss: 0.4958 - Train Acc: 75.78%\n",
      "Validation Acc: 69.95%\n",
      "\n"
     ]
    },
    {
     "name": "stderr",
     "output_type": "stream",
     "text": [
      "Epoch 32/70: 100%|██████████| 231/231 [00:28<00:00,  7.98it/s]\n"
     ]
    },
    {
     "name": "stdout",
     "output_type": "stream",
     "text": [
      "Epoch [32/70] - Loss: 0.4991 - Train Acc: 75.53%\n",
      "Validation Acc: 72.25%\n",
      "\n"
     ]
    },
    {
     "name": "stderr",
     "output_type": "stream",
     "text": [
      "Epoch 33/70: 100%|██████████| 231/231 [00:28<00:00,  8.01it/s]\n"
     ]
    },
    {
     "name": "stdout",
     "output_type": "stream",
     "text": [
      "Epoch [33/70] - Loss: 0.4883 - Train Acc: 76.64%\n",
      "Validation Acc: 73.53%\n",
      "\n"
     ]
    },
    {
     "name": "stderr",
     "output_type": "stream",
     "text": [
      "Epoch 34/70: 100%|██████████| 231/231 [00:28<00:00,  7.97it/s]\n"
     ]
    },
    {
     "name": "stdout",
     "output_type": "stream",
     "text": [
      "Epoch [34/70] - Loss: 0.4832 - Train Acc: 77.03%\n",
      "Validation Acc: 76.62%\n",
      "\n"
     ]
    },
    {
     "name": "stderr",
     "output_type": "stream",
     "text": [
      "Epoch 35/70: 100%|██████████| 231/231 [00:29<00:00,  7.85it/s]\n"
     ]
    },
    {
     "name": "stdout",
     "output_type": "stream",
     "text": [
      "Epoch [35/70] - Loss: 0.4936 - Train Acc: 76.37%\n",
      "Validation Acc: 73.00%\n",
      "\n"
     ]
    },
    {
     "name": "stderr",
     "output_type": "stream",
     "text": [
      "Epoch 36/70: 100%|██████████| 231/231 [00:29<00:00,  7.96it/s]\n"
     ]
    },
    {
     "name": "stdout",
     "output_type": "stream",
     "text": [
      "Epoch [36/70] - Loss: 0.4796 - Train Acc: 77.33%\n",
      "Validation Acc: 73.38%\n",
      "\n"
     ]
    },
    {
     "name": "stderr",
     "output_type": "stream",
     "text": [
      "Epoch 37/70: 100%|██████████| 231/231 [00:28<00:00,  8.00it/s]\n"
     ]
    },
    {
     "name": "stdout",
     "output_type": "stream",
     "text": [
      "Epoch [37/70] - Loss: 0.4730 - Train Acc: 77.50%\n",
      "Validation Acc: 72.12%\n",
      "\n"
     ]
    },
    {
     "name": "stderr",
     "output_type": "stream",
     "text": [
      "Epoch 38/70: 100%|██████████| 231/231 [00:28<00:00,  7.99it/s]\n"
     ]
    },
    {
     "name": "stdout",
     "output_type": "stream",
     "text": [
      "Epoch [38/70] - Loss: 0.4848 - Train Acc: 76.54%\n",
      "Validation Acc: 68.96%\n",
      "\n"
     ]
    },
    {
     "name": "stderr",
     "output_type": "stream",
     "text": [
      "Epoch 39/70: 100%|██████████| 231/231 [00:28<00:00,  8.01it/s]\n"
     ]
    },
    {
     "name": "stdout",
     "output_type": "stream",
     "text": [
      "Epoch [39/70] - Loss: 0.5066 - Train Acc: 75.07%\n",
      "Validation Acc: 69.50%\n",
      "\n"
     ]
    },
    {
     "name": "stderr",
     "output_type": "stream",
     "text": [
      "Epoch 40/70: 100%|██████████| 231/231 [00:29<00:00,  7.93it/s]\n"
     ]
    },
    {
     "name": "stdout",
     "output_type": "stream",
     "text": [
      "Epoch [40/70] - Loss: 0.5097 - Train Acc: 74.78%\n",
      "Validation Acc: 66.84%\n",
      "\n"
     ]
    },
    {
     "name": "stderr",
     "output_type": "stream",
     "text": [
      "Epoch 41/70: 100%|██████████| 231/231 [00:29<00:00,  7.94it/s]\n"
     ]
    },
    {
     "name": "stdout",
     "output_type": "stream",
     "text": [
      "Epoch [41/70] - Loss: 0.4921 - Train Acc: 76.23%\n",
      "Validation Acc: 62.94%\n",
      "\n"
     ]
    },
    {
     "name": "stderr",
     "output_type": "stream",
     "text": [
      "Epoch 42/70: 100%|██████████| 231/231 [00:28<00:00,  7.99it/s]\n"
     ]
    },
    {
     "name": "stdout",
     "output_type": "stream",
     "text": [
      "Epoch [42/70] - Loss: 0.5052 - Train Acc: 75.55%\n",
      "Validation Acc: 73.42%\n",
      "\n"
     ]
    },
    {
     "name": "stderr",
     "output_type": "stream",
     "text": [
      "Epoch 43/70: 100%|██████████| 231/231 [00:28<00:00,  8.00it/s]\n"
     ]
    },
    {
     "name": "stdout",
     "output_type": "stream",
     "text": [
      "Epoch [43/70] - Loss: 0.5038 - Train Acc: 75.50%\n",
      "Validation Acc: 67.95%\n",
      "\n"
     ]
    },
    {
     "name": "stderr",
     "output_type": "stream",
     "text": [
      "Epoch 44/70: 100%|██████████| 231/231 [00:29<00:00,  7.94it/s]\n"
     ]
    },
    {
     "name": "stdout",
     "output_type": "stream",
     "text": [
      "Epoch [44/70] - Loss: 0.5216 - Train Acc: 73.77%\n",
      "Validation Acc: 72.07%\n",
      "\n"
     ]
    },
    {
     "name": "stderr",
     "output_type": "stream",
     "text": [
      "Epoch 45/70: 100%|██████████| 231/231 [00:29<00:00,  7.88it/s]\n"
     ]
    },
    {
     "name": "stdout",
     "output_type": "stream",
     "text": [
      "Epoch [45/70] - Loss: 0.5153 - Train Acc: 74.88%\n",
      "Validation Acc: 76.89%\n",
      "\n"
     ]
    },
    {
     "name": "stderr",
     "output_type": "stream",
     "text": [
      "Epoch 46/70: 100%|██████████| 231/231 [00:28<00:00,  7.99it/s]\n"
     ]
    },
    {
     "name": "stdout",
     "output_type": "stream",
     "text": [
      "Epoch [46/70] - Loss: 0.5108 - Train Acc: 75.09%\n",
      "Validation Acc: 69.79%\n",
      "\n"
     ]
    },
    {
     "name": "stderr",
     "output_type": "stream",
     "text": [
      "Epoch 47/70: 100%|██████████| 231/231 [00:29<00:00,  7.95it/s]\n"
     ]
    },
    {
     "name": "stdout",
     "output_type": "stream",
     "text": [
      "Epoch [47/70] - Loss: 0.5082 - Train Acc: 75.49%\n",
      "Validation Acc: 65.39%\n",
      "\n"
     ]
    },
    {
     "name": "stderr",
     "output_type": "stream",
     "text": [
      "Epoch 48/70: 100%|██████████| 231/231 [00:28<00:00,  7.99it/s]\n"
     ]
    },
    {
     "name": "stdout",
     "output_type": "stream",
     "text": [
      "Epoch [48/70] - Loss: 0.5037 - Train Acc: 75.68%\n",
      "Validation Acc: 74.11%\n",
      "\n"
     ]
    },
    {
     "name": "stderr",
     "output_type": "stream",
     "text": [
      "Epoch 49/70: 100%|██████████| 231/231 [00:28<00:00,  8.00it/s]\n"
     ]
    },
    {
     "name": "stdout",
     "output_type": "stream",
     "text": [
      "Epoch [49/70] - Loss: 0.4991 - Train Acc: 75.95%\n",
      "Validation Acc: 67.08%\n",
      "\n"
     ]
    },
    {
     "name": "stderr",
     "output_type": "stream",
     "text": [
      "Epoch 50/70: 100%|██████████| 231/231 [00:28<00:00,  7.98it/s]\n"
     ]
    },
    {
     "name": "stdout",
     "output_type": "stream",
     "text": [
      "Epoch [50/70] - Loss: 0.4985 - Train Acc: 76.00%\n",
      "Validation Acc: 73.33%\n",
      "\n"
     ]
    },
    {
     "name": "stderr",
     "output_type": "stream",
     "text": [
      "Epoch 51/70: 100%|██████████| 231/231 [00:28<00:00,  8.01it/s]\n"
     ]
    },
    {
     "name": "stdout",
     "output_type": "stream",
     "text": [
      "Epoch [51/70] - Loss: 0.4999 - Train Acc: 75.78%\n",
      "Validation Acc: 71.29%\n",
      "\n"
     ]
    },
    {
     "name": "stderr",
     "output_type": "stream",
     "text": [
      "Epoch 52/70: 100%|██████████| 231/231 [00:28<00:00,  8.00it/s]\n"
     ]
    },
    {
     "name": "stdout",
     "output_type": "stream",
     "text": [
      "Epoch [52/70] - Loss: 0.5129 - Train Acc: 75.05%\n",
      "Validation Acc: 66.80%\n",
      "\n"
     ]
    },
    {
     "name": "stderr",
     "output_type": "stream",
     "text": [
      "Epoch 53/70: 100%|██████████| 231/231 [00:28<00:00,  7.98it/s]\n"
     ]
    },
    {
     "name": "stdout",
     "output_type": "stream",
     "text": [
      "Epoch [53/70] - Loss: 0.5124 - Train Acc: 75.24%\n",
      "Validation Acc: 70.89%\n",
      "\n"
     ]
    },
    {
     "name": "stderr",
     "output_type": "stream",
     "text": [
      "Epoch 54/70: 100%|██████████| 231/231 [00:28<00:00,  7.99it/s]\n"
     ]
    },
    {
     "name": "stdout",
     "output_type": "stream",
     "text": [
      "Epoch [54/70] - Loss: 0.5147 - Train Acc: 74.34%\n",
      "Validation Acc: 68.31%\n",
      "\n"
     ]
    },
    {
     "name": "stderr",
     "output_type": "stream",
     "text": [
      "Epoch 55/70: 100%|██████████| 231/231 [00:28<00:00,  7.99it/s]\n"
     ]
    },
    {
     "name": "stdout",
     "output_type": "stream",
     "text": [
      "Epoch [55/70] - Loss: 0.5124 - Train Acc: 75.05%\n",
      "Validation Acc: 59.14%\n",
      "\n"
     ]
    },
    {
     "name": "stderr",
     "output_type": "stream",
     "text": [
      "Epoch 56/70: 100%|██████████| 231/231 [00:28<00:00,  8.00it/s]\n"
     ]
    },
    {
     "name": "stdout",
     "output_type": "stream",
     "text": [
      "Epoch [56/70] - Loss: 0.5384 - Train Acc: 73.24%\n",
      "Validation Acc: 66.03%\n",
      "\n"
     ]
    },
    {
     "name": "stderr",
     "output_type": "stream",
     "text": [
      "Epoch 57/70: 100%|██████████| 231/231 [00:28<00:00,  7.99it/s]\n"
     ]
    },
    {
     "name": "stdout",
     "output_type": "stream",
     "text": [
      "Epoch [57/70] - Loss: 0.5425 - Train Acc: 74.08%\n",
      "Validation Acc: 66.75%\n",
      "\n"
     ]
    },
    {
     "name": "stderr",
     "output_type": "stream",
     "text": [
      "Epoch 58/70: 100%|██████████| 231/231 [00:29<00:00,  7.90it/s]\n"
     ]
    },
    {
     "name": "stdout",
     "output_type": "stream",
     "text": [
      "Epoch [58/70] - Loss: 0.5380 - Train Acc: 73.66%\n",
      "Validation Acc: 65.18%\n",
      "\n"
     ]
    },
    {
     "name": "stderr",
     "output_type": "stream",
     "text": [
      "Epoch 59/70: 100%|██████████| 231/231 [00:29<00:00,  7.87it/s]\n"
     ]
    },
    {
     "name": "stdout",
     "output_type": "stream",
     "text": [
      "Epoch [59/70] - Loss: 0.5501 - Train Acc: 72.20%\n",
      "Validation Acc: 73.17%\n",
      "\n"
     ]
    },
    {
     "name": "stderr",
     "output_type": "stream",
     "text": [
      "Epoch 60/70: 100%|██████████| 231/231 [00:29<00:00,  7.82it/s]\n"
     ]
    },
    {
     "name": "stdout",
     "output_type": "stream",
     "text": [
      "Epoch [60/70] - Loss: 0.5433 - Train Acc: 72.19%\n",
      "Validation Acc: 66.06%\n",
      "\n"
     ]
    },
    {
     "name": "stderr",
     "output_type": "stream",
     "text": [
      "Epoch 61/70: 100%|██████████| 231/231 [00:29<00:00,  7.87it/s]\n"
     ]
    },
    {
     "name": "stdout",
     "output_type": "stream",
     "text": [
      "Epoch [61/70] - Loss: 0.5717 - Train Acc: 70.54%\n",
      "Validation Acc: 70.91%\n",
      "\n"
     ]
    },
    {
     "name": "stderr",
     "output_type": "stream",
     "text": [
      "Epoch 62/70: 100%|██████████| 231/231 [00:29<00:00,  7.89it/s]\n"
     ]
    },
    {
     "name": "stdout",
     "output_type": "stream",
     "text": [
      "Epoch [62/70] - Loss: 0.5617 - Train Acc: 71.16%\n",
      "Validation Acc: 68.58%\n",
      "\n"
     ]
    },
    {
     "name": "stderr",
     "output_type": "stream",
     "text": [
      "Epoch 63/70: 100%|██████████| 231/231 [00:28<00:00,  7.99it/s]\n"
     ]
    },
    {
     "name": "stdout",
     "output_type": "stream",
     "text": [
      "Epoch [63/70] - Loss: 0.5474 - Train Acc: 72.47%\n",
      "Validation Acc: 61.40%\n",
      "\n"
     ]
    },
    {
     "name": "stderr",
     "output_type": "stream",
     "text": [
      "Epoch 64/70: 100%|██████████| 231/231 [00:29<00:00,  7.95it/s]\n"
     ]
    },
    {
     "name": "stdout",
     "output_type": "stream",
     "text": [
      "Epoch [64/70] - Loss: 0.5427 - Train Acc: 72.35%\n",
      "Validation Acc: 59.41%\n",
      "\n"
     ]
    },
    {
     "name": "stderr",
     "output_type": "stream",
     "text": [
      "Epoch 65/70: 100%|██████████| 231/231 [00:29<00:00,  7.93it/s]\n"
     ]
    },
    {
     "name": "stdout",
     "output_type": "stream",
     "text": [
      "Epoch [65/70] - Loss: 0.5454 - Train Acc: 72.66%\n",
      "Validation Acc: 67.57%\n",
      "\n"
     ]
    },
    {
     "name": "stderr",
     "output_type": "stream",
     "text": [
      "Epoch 66/70: 100%|██████████| 231/231 [00:28<00:00,  7.98it/s]\n"
     ]
    },
    {
     "name": "stdout",
     "output_type": "stream",
     "text": [
      "Epoch [66/70] - Loss: 0.5383 - Train Acc: 72.79%\n",
      "Validation Acc: 71.10%\n",
      "\n"
     ]
    },
    {
     "name": "stderr",
     "output_type": "stream",
     "text": [
      "Epoch 67/70: 100%|██████████| 231/231 [00:28<00:00,  7.98it/s]\n"
     ]
    },
    {
     "name": "stdout",
     "output_type": "stream",
     "text": [
      "Epoch [67/70] - Loss: 0.5340 - Train Acc: 72.88%\n",
      "Validation Acc: 60.59%\n",
      "\n"
     ]
    },
    {
     "name": "stderr",
     "output_type": "stream",
     "text": [
      "Epoch 68/70: 100%|██████████| 231/231 [00:29<00:00,  7.88it/s]\n"
     ]
    },
    {
     "name": "stdout",
     "output_type": "stream",
     "text": [
      "Epoch [68/70] - Loss: 0.5250 - Train Acc: 73.92%\n",
      "Validation Acc: 68.75%\n",
      "\n"
     ]
    },
    {
     "name": "stderr",
     "output_type": "stream",
     "text": [
      "Epoch 69/70: 100%|██████████| 231/231 [00:28<00:00,  7.99it/s]\n"
     ]
    },
    {
     "name": "stdout",
     "output_type": "stream",
     "text": [
      "Epoch [69/70] - Loss: 0.5274 - Train Acc: 73.89%\n",
      "Validation Acc: 70.66%\n",
      "\n"
     ]
    },
    {
     "name": "stderr",
     "output_type": "stream",
     "text": [
      "Epoch 70/70: 100%|██████████| 231/231 [00:28<00:00,  8.02it/s]\n"
     ]
    },
    {
     "name": "stdout",
     "output_type": "stream",
     "text": [
      "Epoch [70/70] - Loss: 0.5248 - Train Acc: 74.32%\n",
      "Validation Acc: 69.52%\n",
      "\n",
      "🏆 Training complete! Best Validation Acc: 79.12% - Model saved to vit_helmet_best.pth\n"
     ]
    }
   ],
   "source": [
    "import torch\n",
    "from torch import nn, optim\n",
    "from torch.utils.data import DataLoader\n",
    "from torchvision import datasets, transforms\n",
    "from vit_pytorch import ViT\n",
    "from tqdm import tqdm\n",
    "import os\n",
    "\n",
    "# ==== Cấu hình ====\n",
    "device = torch.device(\"cuda\" if torch.cuda.is_available() else \"cpu\")\n",
    "batch_size = 32\n",
    "epochs = 70\n",
    "num_classes = 2  # helmet, no_helmet\n",
    "save_path = \"vit_helmet_best.pth\"\n",
    "\n",
    "# ==== Augmentation & Preprocessing ====\n",
    "transform = transforms.Compose([\n",
    "    transforms.Resize((256, 256)),\n",
    "    transforms.ToTensor(),\n",
    "    transforms.Normalize(mean=[0.5, 0.5, 0.5],\n",
    "                         std=[0.5, 0.5, 0.5])\n",
    "])\n",
    "\n",
    "# ==== Load Dataset ====\n",
    "train_dataset = datasets.ImageFolder(\n",
    "    root=\"D:/yolo8_congTruong/outputs/classification_dataset/train\",\n",
    "    transform=transform\n",
    ")\n",
    "val_dataset = datasets.ImageFolder(\n",
    "    root=\"D:/yolo8_congTruong/outputs/classification_dataset/val\",\n",
    "    transform=transform\n",
    ")\n",
    "\n",
    "train_loader = DataLoader(train_dataset, batch_size=batch_size, shuffle=True, num_workers=2)\n",
    "val_loader = DataLoader(val_dataset, batch_size=batch_size, shuffle=False, num_workers=2)\n",
    "\n",
    "# ==== Khởi tạo model ViT ====\n",
    "model = ViT(\n",
    "    image_size=256,\n",
    "    patch_size=32,\n",
    "    num_classes=num_classes,\n",
    "    dim=512,\n",
    "    depth=6,\n",
    "    heads=8,\n",
    "    mlp_dim=1024,\n",
    "    dropout=0.1,\n",
    "    emb_dropout=0.1\n",
    ").to(device)\n",
    "\n",
    "# ==== Loss & Optimizer ====\n",
    "criterion = nn.CrossEntropyLoss()\n",
    "optimizer = optim.Adam(model.parameters(), lr=3e-4)\n",
    "\n",
    "# ==== Train Loop ====\n",
    "best_val_acc = 0.0  # lưu best accuracy\n",
    "for epoch in range(epochs):\n",
    "    model.train()\n",
    "    running_loss = 0.0\n",
    "    correct, total = 0, 0\n",
    "\n",
    "    for images, labels in tqdm(train_loader, desc=f\"Epoch {epoch+1}/{epochs}\"):\n",
    "        images, labels = images.to(device), labels.to(device)\n",
    "\n",
    "        optimizer.zero_grad()\n",
    "        outputs = model(images)\n",
    "        loss = criterion(outputs, labels)\n",
    "        loss.backward()\n",
    "        optimizer.step()\n",
    "\n",
    "        running_loss += loss.item()\n",
    "\n",
    "        _, predicted = outputs.max(1)\n",
    "        total += labels.size(0)\n",
    "        correct += predicted.eq(labels).sum().item()\n",
    "\n",
    "    train_acc = 100. * correct / total\n",
    "    print(f\"Epoch [{epoch+1}/{epochs}] - Loss: {running_loss/len(train_loader):.4f} - Train Acc: {train_acc:.2f}%\")\n",
    "\n",
    "    # ==== Validation ====\n",
    "    model.eval()\n",
    "    correct, total = 0, 0\n",
    "    with torch.no_grad():\n",
    "        for images, labels in val_loader:\n",
    "            images, labels = images.to(device), labels.to(device)\n",
    "            outputs = model(images)\n",
    "            _, predicted = outputs.max(1)\n",
    "            total += labels.size(0)\n",
    "            correct += predicted.eq(labels).sum().item()\n",
    "\n",
    "    val_acc = 100. * correct / total\n",
    "    print(f\"Validation Acc: {val_acc:.2f}%\\n\")\n",
    "\n",
    "    # ==== Lưu mô hình tốt nhất ====\n",
    "    if val_acc > best_val_acc:\n",
    "        best_val_acc = val_acc\n",
    "        torch.save(model.state_dict(), save_path)\n",
    "        print(f\"✅ Saved best model at epoch {epoch+1} with Validation Acc: {val_acc:.2f}%\")\n",
    "\n",
    "print(f\"🏆 Training complete! Best Validation Acc: {best_val_acc:.2f}% - Model saved to {save_path}\")\n"
   ]
  }
 ],
 "metadata": {
  "kernelspec": {
   "display_name": ".venv",
   "language": "python",
   "name": "python3"
  },
  "language_info": {
   "codemirror_mode": {
    "name": "ipython",
    "version": 3
   },
   "file_extension": ".py",
   "mimetype": "text/x-python",
   "name": "python",
   "nbconvert_exporter": "python",
   "pygments_lexer": "ipython3",
   "version": "3.12.5"
  }
 },
 "nbformat": 4,
 "nbformat_minor": 2
}
